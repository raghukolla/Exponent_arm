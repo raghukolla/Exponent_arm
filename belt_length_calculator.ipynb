{
 "cells": [
  {
   "cell_type": "code",
   "execution_count": 1,
   "id": "da33e705",
   "metadata": {},
   "outputs": [],
   "source": [
    "import math"
   ]
  },
  {
   "cell_type": "code",
   "execution_count": 2,
   "id": "66b1e9a2",
   "metadata": {},
   "outputs": [
    {
     "name": "stdout",
     "output_type": "stream",
     "text": [
      "Big pulley diameter   = 95.493 mm\n",
      "Small pulley diameter = 23.873 mm\n",
      "belt length           = 450.13 mm\n"
     ]
    }
   ],
   "source": [
    "# num of teeth on larger pulley\n",
    "t1 = 60\n",
    "\n",
    "# num of teeth on smaller pulley\n",
    "t2 = 15\n",
    "\n",
    "# center distance\n",
    "d = 126.2\n",
    "\n",
    "############################################################\n",
    "\n",
    "# belt/pulley pitch\n",
    "pitch = 5\n",
    "\n",
    "# bigger pulley diameter\n",
    "d1 = t1*pitch/math.pi\n",
    "r1 = d1/2\n",
    "\n",
    "# smaller pulley diameter\n",
    "d2 = t2*pitch/math.pi\n",
    "r2 = d2/2\n",
    "\n",
    "print(\"Big pulley diameter   = \" + str(round(d1, 3)) + \" mm\")\n",
    "print(\"Small pulley diameter = \" + str(round(d2, 3)) + \" mm\")\n",
    "\n",
    "# upper/lower straight part Length of the belt\n",
    "straigh_part_distance = math.sqrt(d**2 - (r1-r2)**2)\n",
    "\n",
    "# angle between radis and connecting line between the two centres\n",
    "angle = math.acos((r1-r2)/d)\n",
    "\n",
    "belt_length = 2*straigh_part_distance + (2*math.pi-2*angle)*r1 + 2*angle*r2\n",
    "\n",
    "print(\"belt length           = \" + str(round(belt_length, 2)) + \" mm\")"
   ]
  },
  {
   "cell_type": "code",
   "execution_count": null,
   "id": "37187c62",
   "metadata": {},
   "outputs": [],
   "source": []
  }
 ],
 "metadata": {
  "kernelspec": {
   "display_name": "Python 3 (ipykernel)",
   "language": "python",
   "name": "python3"
  },
  "language_info": {
   "codemirror_mode": {
    "name": "ipython",
    "version": 3
   },
   "file_extension": ".py",
   "mimetype": "text/x-python",
   "name": "python",
   "nbconvert_exporter": "python",
   "pygments_lexer": "ipython3",
   "version": "3.11.5"
  }
 },
 "nbformat": 4,
 "nbformat_minor": 5
}
